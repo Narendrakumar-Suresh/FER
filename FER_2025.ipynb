{
  "cells": [
    {
      "cell_type": "markdown",
      "metadata": {
        "id": "view-in-github",
        "colab_type": "text"
      },
      "source": [
        "<a href=\"https://colab.research.google.com/github/Narendrakumar-Suresh/FER/blob/main/FER_2025.ipynb\" target=\"_parent\"><img src=\"https://colab.research.google.com/assets/colab-badge.svg\" alt=\"Open In Colab\"/></a>"
      ]
    },
    {
      "cell_type": "markdown",
      "metadata": {
        "id": "0QK2l1-1xME4"
      },
      "source": [
        "## Setting up Kaggle to import data"
      ]
    },
    {
      "cell_type": "code",
      "execution_count": null,
      "metadata": {
        "colab": {
          "base_uri": "https://localhost:8080/",
          "height": 91
        },
        "id": "8ZSkHSRhldSt",
        "outputId": "a093df18-65c3-4694-8188-5254557b4af4"
      },
      "outputs": [
        {
          "output_type": "display_data",
          "data": {
            "text/plain": [
              "<IPython.core.display.HTML object>"
            ],
            "text/html": [
              "\n",
              "     <input type=\"file\" id=\"files-0bf32062-8d9f-46be-933f-a1027e459d22\" name=\"files[]\" multiple disabled\n",
              "        style=\"border:none\" />\n",
              "     <output id=\"result-0bf32062-8d9f-46be-933f-a1027e459d22\">\n",
              "      Upload widget is only available when the cell has been executed in the\n",
              "      current browser session. Please rerun this cell to enable.\n",
              "      </output>\n",
              "      <script>// Copyright 2017 Google LLC\n",
              "//\n",
              "// Licensed under the Apache License, Version 2.0 (the \"License\");\n",
              "// you may not use this file except in compliance with the License.\n",
              "// You may obtain a copy of the License at\n",
              "//\n",
              "//      http://www.apache.org/licenses/LICENSE-2.0\n",
              "//\n",
              "// Unless required by applicable law or agreed to in writing, software\n",
              "// distributed under the License is distributed on an \"AS IS\" BASIS,\n",
              "// WITHOUT WARRANTIES OR CONDITIONS OF ANY KIND, either express or implied.\n",
              "// See the License for the specific language governing permissions and\n",
              "// limitations under the License.\n",
              "\n",
              "/**\n",
              " * @fileoverview Helpers for google.colab Python module.\n",
              " */\n",
              "(function(scope) {\n",
              "function span(text, styleAttributes = {}) {\n",
              "  const element = document.createElement('span');\n",
              "  element.textContent = text;\n",
              "  for (const key of Object.keys(styleAttributes)) {\n",
              "    element.style[key] = styleAttributes[key];\n",
              "  }\n",
              "  return element;\n",
              "}\n",
              "\n",
              "// Max number of bytes which will be uploaded at a time.\n",
              "const MAX_PAYLOAD_SIZE = 100 * 1024;\n",
              "\n",
              "function _uploadFiles(inputId, outputId) {\n",
              "  const steps = uploadFilesStep(inputId, outputId);\n",
              "  const outputElement = document.getElementById(outputId);\n",
              "  // Cache steps on the outputElement to make it available for the next call\n",
              "  // to uploadFilesContinue from Python.\n",
              "  outputElement.steps = steps;\n",
              "\n",
              "  return _uploadFilesContinue(outputId);\n",
              "}\n",
              "\n",
              "// This is roughly an async generator (not supported in the browser yet),\n",
              "// where there are multiple asynchronous steps and the Python side is going\n",
              "// to poll for completion of each step.\n",
              "// This uses a Promise to block the python side on completion of each step,\n",
              "// then passes the result of the previous step as the input to the next step.\n",
              "function _uploadFilesContinue(outputId) {\n",
              "  const outputElement = document.getElementById(outputId);\n",
              "  const steps = outputElement.steps;\n",
              "\n",
              "  const next = steps.next(outputElement.lastPromiseValue);\n",
              "  return Promise.resolve(next.value.promise).then((value) => {\n",
              "    // Cache the last promise value to make it available to the next\n",
              "    // step of the generator.\n",
              "    outputElement.lastPromiseValue = value;\n",
              "    return next.value.response;\n",
              "  });\n",
              "}\n",
              "\n",
              "/**\n",
              " * Generator function which is called between each async step of the upload\n",
              " * process.\n",
              " * @param {string} inputId Element ID of the input file picker element.\n",
              " * @param {string} outputId Element ID of the output display.\n",
              " * @return {!Iterable<!Object>} Iterable of next steps.\n",
              " */\n",
              "function* uploadFilesStep(inputId, outputId) {\n",
              "  const inputElement = document.getElementById(inputId);\n",
              "  inputElement.disabled = false;\n",
              "\n",
              "  const outputElement = document.getElementById(outputId);\n",
              "  outputElement.innerHTML = '';\n",
              "\n",
              "  const pickedPromise = new Promise((resolve) => {\n",
              "    inputElement.addEventListener('change', (e) => {\n",
              "      resolve(e.target.files);\n",
              "    });\n",
              "  });\n",
              "\n",
              "  const cancel = document.createElement('button');\n",
              "  inputElement.parentElement.appendChild(cancel);\n",
              "  cancel.textContent = 'Cancel upload';\n",
              "  const cancelPromise = new Promise((resolve) => {\n",
              "    cancel.onclick = () => {\n",
              "      resolve(null);\n",
              "    };\n",
              "  });\n",
              "\n",
              "  // Wait for the user to pick the files.\n",
              "  const files = yield {\n",
              "    promise: Promise.race([pickedPromise, cancelPromise]),\n",
              "    response: {\n",
              "      action: 'starting',\n",
              "    }\n",
              "  };\n",
              "\n",
              "  cancel.remove();\n",
              "\n",
              "  // Disable the input element since further picks are not allowed.\n",
              "  inputElement.disabled = true;\n",
              "\n",
              "  if (!files) {\n",
              "    return {\n",
              "      response: {\n",
              "        action: 'complete',\n",
              "      }\n",
              "    };\n",
              "  }\n",
              "\n",
              "  for (const file of files) {\n",
              "    const li = document.createElement('li');\n",
              "    li.append(span(file.name, {fontWeight: 'bold'}));\n",
              "    li.append(span(\n",
              "        `(${file.type || 'n/a'}) - ${file.size} bytes, ` +\n",
              "        `last modified: ${\n",
              "            file.lastModifiedDate ? file.lastModifiedDate.toLocaleDateString() :\n",
              "                                    'n/a'} - `));\n",
              "    const percent = span('0% done');\n",
              "    li.appendChild(percent);\n",
              "\n",
              "    outputElement.appendChild(li);\n",
              "\n",
              "    const fileDataPromise = new Promise((resolve) => {\n",
              "      const reader = new FileReader();\n",
              "      reader.onload = (e) => {\n",
              "        resolve(e.target.result);\n",
              "      };\n",
              "      reader.readAsArrayBuffer(file);\n",
              "    });\n",
              "    // Wait for the data to be ready.\n",
              "    let fileData = yield {\n",
              "      promise: fileDataPromise,\n",
              "      response: {\n",
              "        action: 'continue',\n",
              "      }\n",
              "    };\n",
              "\n",
              "    // Use a chunked sending to avoid message size limits. See b/62115660.\n",
              "    let position = 0;\n",
              "    do {\n",
              "      const length = Math.min(fileData.byteLength - position, MAX_PAYLOAD_SIZE);\n",
              "      const chunk = new Uint8Array(fileData, position, length);\n",
              "      position += length;\n",
              "\n",
              "      const base64 = btoa(String.fromCharCode.apply(null, chunk));\n",
              "      yield {\n",
              "        response: {\n",
              "          action: 'append',\n",
              "          file: file.name,\n",
              "          data: base64,\n",
              "        },\n",
              "      };\n",
              "\n",
              "      let percentDone = fileData.byteLength === 0 ?\n",
              "          100 :\n",
              "          Math.round((position / fileData.byteLength) * 100);\n",
              "      percent.textContent = `${percentDone}% done`;\n",
              "\n",
              "    } while (position < fileData.byteLength);\n",
              "  }\n",
              "\n",
              "  // All done.\n",
              "  yield {\n",
              "    response: {\n",
              "      action: 'complete',\n",
              "    }\n",
              "  };\n",
              "}\n",
              "\n",
              "scope.google = scope.google || {};\n",
              "scope.google.colab = scope.google.colab || {};\n",
              "scope.google.colab._files = {\n",
              "  _uploadFiles,\n",
              "  _uploadFilesContinue,\n",
              "};\n",
              "})(self);\n",
              "</script> "
            ]
          },
          "metadata": {}
        },
        {
          "output_type": "stream",
          "name": "stdout",
          "text": [
            "Saving kaggle.json to kaggle.json\n"
          ]
        },
        {
          "output_type": "execute_result",
          "data": {
            "text/plain": [
              "{'kaggle.json': b'{\"username\":\"nandydev\",\"key\":\"4adb653edf0e679cd72b784a98422e84\"}'}"
            ]
          },
          "metadata": {},
          "execution_count": 1
        }
      ],
      "source": [
        "from google.colab import files\n",
        "files.upload()"
      ]
    },
    {
      "cell_type": "markdown",
      "metadata": {
        "id": "rDIijDzwxRxJ"
      },
      "source": [
        "## Setting up directory"
      ]
    },
    {
      "cell_type": "code",
      "execution_count": null,
      "metadata": {
        "id": "NKeg_gI-mE78"
      },
      "outputs": [],
      "source": [
        "!mkdir -p ~/.kaggle\n",
        "!cp kaggle.json ~/.kaggle/\n",
        "!chmod 600 ~/.kaggle/kaggle.json\n"
      ]
    },
    {
      "cell_type": "code",
      "execution_count": null,
      "metadata": {
        "colab": {
          "base_uri": "https://localhost:8080/"
        },
        "id": "RvfsPxpbmGez",
        "outputId": "5c11c172-a483-4606-f25a-795d64bfa0e3"
      },
      "outputs": [
        {
          "output_type": "stream",
          "name": "stdout",
          "text": [
            "Dataset URL: https://www.kaggle.com/datasets/msambare/fer2013\n",
            "License(s): DbCL-1.0\n"
          ]
        }
      ],
      "source": [
        "!kaggle datasets download -d msambare/fer2013\n"
      ]
    },
    {
      "cell_type": "code",
      "execution_count": null,
      "metadata": {
        "id": "Wmdg7y21mInF"
      },
      "outputs": [],
      "source": [
        "import zipfile\n",
        "\n",
        "with zipfile.ZipFile(\"fer2013.zip\", \"r\") as zip_ref:\n",
        "    zip_ref.extractall(\"fer2013\")\n"
      ]
    },
    {
      "cell_type": "markdown",
      "metadata": {
        "id": "fsF8sN6kxZ8y"
      },
      "source": [
        "## importing necessary libraries"
      ]
    },
    {
      "cell_type": "code",
      "execution_count": null,
      "metadata": {
        "id": "qlbEf0UnlbC4"
      },
      "outputs": [],
      "source": [
        "import torch\n",
        "import torch.nn as nn\n",
        "import torch.nn.functional as F\n",
        "from torch.utils.data import Dataset, DataLoader\n",
        "import torchvision\n",
        "from torchvision import datasets, transforms\n",
        "import torchvision.transforms as transforms"
      ]
    },
    {
      "cell_type": "markdown",
      "metadata": {
        "id": "qqp15evExeL9"
      },
      "source": [
        "### Setting up hyperparameters and CUDA"
      ]
    },
    {
      "cell_type": "code",
      "execution_count": null,
      "metadata": {
        "id": "nOaNwRf0laWO"
      },
      "outputs": [],
      "source": [
        "device=torch.device('cuda' if torch.cuda.is_available() else 'cpu')\n",
        "\n",
        "#hyperparameters\n",
        "num_epochs=30\n",
        "batch_size=64\n",
        "learning_rate=5e-4"
      ]
    },
    {
      "cell_type": "code",
      "execution_count": null,
      "metadata": {
        "id": "dT0KF3fDnjwm"
      },
      "outputs": [],
      "source": [
        "transform = transforms.Compose([\n",
        "    transforms.Grayscale(),\n",
        "    transforms.Resize((48, 48)),\n",
        "    transforms.RandomHorizontalFlip(),\n",
        "    transforms.RandomRotation(10),\n",
        "    transforms.ToTensor(),\n",
        "    transforms.Normalize((0.5,), (0.5,))\n",
        "])"
      ]
    },
    {
      "cell_type": "code",
      "execution_count": null,
      "metadata": {
        "id": "jRAMZgmFmnqb"
      },
      "outputs": [],
      "source": [
        "train_dataset = datasets.ImageFolder(root=\"fer2013/train\", transform=transform)\n",
        "train_loader = DataLoader(train_dataset, batch_size=batch_size, shuffle=True)\n",
        "\n",
        "val_dataset = datasets.ImageFolder(root=\"fer2013/test\", transform=transform)\n",
        "val_loader = DataLoader(val_dataset, batch_size=batch_size, shuffle=False)"
      ]
    },
    {
      "cell_type": "markdown",
      "metadata": {
        "id": "wYj8n6EFomXG"
      },
      "source": [
        "## Model"
      ]
    },
    {
      "cell_type": "code",
      "execution_count": null,
      "metadata": {
        "id": "g_LCOVeDomDm"
      },
      "outputs": [],
      "source": [
        "import torch\n",
        "import torch.nn as nn\n",
        "import torch.nn.functional as F\n",
        "\n",
        "class CNN(nn.Module):\n",
        "    def __init__(self):\n",
        "        super(CNN, self).__init__()\n",
        "        self.conv1 = nn.Conv2d(1, 64, 5)\n",
        "        self.bn1 = nn.BatchNorm2d(64)\n",
        "\n",
        "        self.pool = nn.MaxPool2d(2, 2)\n",
        "\n",
        "        self.conv2 = nn.Conv2d(64, 128, 5)\n",
        "        self.bn2 = nn.BatchNorm2d(128)\n",
        "\n",
        "        self.conv3 = nn.Conv2d(128, 256, 3, padding=1)\n",
        "        self.bn3_2d = nn.BatchNorm2d(256)\n",
        "\n",
        "        self.conv4 = nn.Conv2d(256, 512, 3, padding=1)\n",
        "        self.bn4_2d = nn.BatchNorm2d(512)\n",
        "\n",
        "        dummy_input = torch.zeros(1, 1, 48, 48)\n",
        "        x = self.pool(F.gelu(self.bn1(self.conv1(dummy_input))))\n",
        "        x = self.pool(F.gelu(self.bn2(self.conv2(x))))\n",
        "        x = self.pool(F.gelu(self.bn3_2d(self.conv3(x))))\n",
        "        x = self.pool(F.gelu(self.bn4_2d(self.conv4(x))))\n",
        "        self.flattened_size = x.view(1, -1).size(1)\n",
        "\n",
        "        self.l1 = nn.Linear(self.flattened_size, 128)\n",
        "        self.bn1d_1 = nn.BatchNorm1d(128)\n",
        "\n",
        "        self.l2 = nn.Linear(128, 128)\n",
        "        self.bn1d_2 = nn.BatchNorm1d(128)\n",
        "\n",
        "        self.l3 = nn.Linear(128, 128)\n",
        "\n",
        "        self.l4 = nn.Linear(128, 7)\n",
        "\n",
        "    def forward(self, x):\n",
        "        x = self.pool(F.gelu(self.bn1(self.conv1(x))))\n",
        "        x = self.pool(F.gelu(self.bn2(self.conv2(x))))\n",
        "        x = self.pool(F.gelu(self.bn3_2d(self.conv3(x))))\n",
        "        x = self.pool(F.gelu(self.bn4_2d(self.conv4(x))))\n",
        "        x = x.view(x.size(0), -1)\n",
        "        x = F.relu(self.bn1d_1(self.l1(x)))\n",
        "        x = F.relu(self.bn1d_2(self.l2(x)))\n",
        "        x = F.relu(self.l3(x))\n",
        "        x = self.l4(x)\n",
        "        return x\n"
      ]
    },
    {
      "cell_type": "code",
      "execution_count": null,
      "metadata": {
        "id": "uLs_O7atqJgQ"
      },
      "outputs": [],
      "source": [
        "model=CNN().to(device)\n",
        "criterion=nn.CrossEntropyLoss(label_smoothing=0.01)\n",
        "optimizer=torch.optim.AdamW(model.parameters(),lr=learning_rate)\n",
        "scheduler = torch.optim.lr_scheduler.ReduceLROnPlateau(optimizer, mode='min', factor=0.1, patience=3)\n",
        "n_steps=len(train_loader)"
      ]
    },
    {
      "cell_type": "markdown",
      "metadata": {
        "id": "WPy86klkqalv"
      },
      "source": [
        "## Training loop"
      ]
    },
    {
      "cell_type": "code",
      "execution_count": null,
      "metadata": {
        "colab": {
          "base_uri": "https://localhost:8080/"
        },
        "id": "hSlf0yX9qeuP",
        "outputId": "f67338fb-c757-4e10-fe18-d01d7040b5f6"
      },
      "outputs": [
        {
          "output_type": "stream",
          "name": "stdout",
          "text": [
            "Epoch [1/30], Step [200/449], Loss: 1.3328\n",
            "Epoch [1/30], Step [400/449], Loss: 1.3476\n",
            "Epoch [2/30], Step [200/449], Loss: 1.1185\n",
            "Epoch [2/30], Step [400/449], Loss: 1.2535\n",
            "Epoch [3/30], Step [200/449], Loss: 1.0921\n",
            "Epoch [3/30], Step [400/449], Loss: 1.1725\n",
            "Epoch [4/30], Step [200/449], Loss: 1.2140\n",
            "Epoch [4/30], Step [400/449], Loss: 1.2479\n",
            "Epoch [5/30], Step [200/449], Loss: 1.1866\n",
            "Epoch [5/30], Step [400/449], Loss: 1.0010\n",
            "Epoch [6/30], Step [200/449], Loss: 1.1077\n",
            "Epoch [6/30], Step [400/449], Loss: 0.8370\n",
            "Epoch [7/30], Step [200/449], Loss: 1.0116\n",
            "Epoch [7/30], Step [400/449], Loss: 0.9091\n",
            "Epoch [8/30], Step [200/449], Loss: 0.7636\n",
            "Epoch [8/30], Step [400/449], Loss: 0.9714\n",
            "Epoch [9/30], Step [200/449], Loss: 0.8371\n",
            "Epoch [9/30], Step [400/449], Loss: 0.7240\n",
            "Epoch [10/30], Step [200/449], Loss: 0.8512\n",
            "Epoch [10/30], Step [400/449], Loss: 0.9030\n",
            "Epoch [11/30], Step [200/449], Loss: 1.0182\n",
            "Epoch [11/30], Step [400/449], Loss: 0.8301\n",
            "Epoch [12/30], Step [200/449], Loss: 0.7156\n",
            "Epoch [12/30], Step [400/449], Loss: 0.7666\n",
            "Epoch [13/30], Step [200/449], Loss: 0.6261\n",
            "Epoch [13/30], Step [400/449], Loss: 0.6344\n",
            "Epoch [14/30], Step [200/449], Loss: 0.5667\n",
            "Epoch [14/30], Step [400/449], Loss: 0.7067\n",
            "Epoch [15/30], Step [200/449], Loss: 0.8181\n",
            "Epoch [15/30], Step [400/449], Loss: 0.5354\n",
            "Epoch [16/30], Step [200/449], Loss: 0.5539\n",
            "Epoch [16/30], Step [400/449], Loss: 0.6648\n",
            "Epoch [17/30], Step [200/449], Loss: 0.5809\n",
            "Epoch [17/30], Step [400/449], Loss: 0.7554\n",
            "Epoch [18/30], Step [200/449], Loss: 0.6331\n",
            "Epoch [18/30], Step [400/449], Loss: 0.5762\n",
            "Epoch [19/30], Step [200/449], Loss: 0.5480\n",
            "Epoch [19/30], Step [400/449], Loss: 0.6731\n",
            "Epoch [20/30], Step [200/449], Loss: 0.6002\n",
            "Epoch [20/30], Step [400/449], Loss: 0.6595\n",
            "Epoch [21/30], Step [200/449], Loss: 0.3168\n",
            "Epoch [21/30], Step [400/449], Loss: 0.5509\n",
            "Epoch [22/30], Step [200/449], Loss: 0.3396\n",
            "Epoch [22/30], Step [400/449], Loss: 0.5131\n",
            "Epoch [23/30], Step [200/449], Loss: 0.3753\n",
            "Epoch [23/30], Step [400/449], Loss: 0.4852\n",
            "Epoch [24/30], Step [200/449], Loss: 0.4933\n",
            "Epoch [24/30], Step [400/449], Loss: 0.3425\n",
            "Epoch [25/30], Step [200/449], Loss: 0.4187\n",
            "Epoch [25/30], Step [400/449], Loss: 0.4749\n",
            "Epoch [26/30], Step [200/449], Loss: 0.2740\n",
            "Epoch [26/30], Step [400/449], Loss: 0.7196\n",
            "Epoch [27/30], Step [200/449], Loss: 0.3481\n",
            "Epoch [27/30], Step [400/449], Loss: 0.2407\n",
            "Epoch [28/30], Step [200/449], Loss: 0.4964\n",
            "Epoch [28/30], Step [400/449], Loss: 0.4202\n",
            "Epoch [29/30], Step [200/449], Loss: 0.3808\n",
            "Epoch [29/30], Step [400/449], Loss: 0.2779\n",
            "Epoch [30/30], Step [200/449], Loss: 0.2870\n",
            "Epoch [30/30], Step [400/449], Loss: 0.2313\n"
          ]
        }
      ],
      "source": [
        "loss_tracker = []\n",
        "\n",
        "for i in range(num_epochs):\n",
        "    model.train()\n",
        "    running_loss = 0.0\n",
        "\n",
        "    for j, (image, label) in enumerate(train_loader):\n",
        "        image = image.to(device)\n",
        "        label = label.to(device)\n",
        "\n",
        "        output = model(image)\n",
        "        loss = criterion(output, label)\n",
        "\n",
        "        optimizer.zero_grad()\n",
        "        loss.backward()\n",
        "        optimizer.step()\n",
        "\n",
        "        running_loss += loss.item()\n",
        "\n",
        "        if (j + 1) % 400 == 0:\n",
        "            print(f'Epoch [{i+1}/{num_epochs}], Step [{j+1}/{n_steps}], Loss: {loss.item():.4f}')\n",
        "\n",
        "    avg_loss = running_loss / len(train_loader)\n",
        "    scheduler.step(avg_loss)\n",
        "    loss_tracker.append(avg_loss)"
      ]
    },
    {
      "cell_type": "markdown",
      "metadata": {
        "id": "Vhv0qXoQxmXF"
      },
      "source": [
        "### Graph to visualize the losses"
      ]
    },
    {
      "cell_type": "code",
      "execution_count": null,
      "metadata": {
        "id": "VsVqTo70vgB6",
        "colab": {
          "base_uri": "https://localhost:8080/",
          "height": 472
        },
        "outputId": "7e55af36-fc16-4219-c248-2e9fa269562c"
      },
      "outputs": [
        {
          "output_type": "display_data",
          "data": {
            "text/plain": [
              "<Figure size 640x480 with 1 Axes>"
            ],
            "image/png": "[encoded data removed]"
          },
          "metadata": {}
        }
      ],
      "source": [
        "import matplotlib.pyplot as plt\n",
        "plt.plot(loss_tracker)\n",
        "plt.xlabel('Epoch')\n",
        "plt.ylabel('Loss')\n",
        "plt.title('Loss vs Epoch')\n",
        "plt.show()"
      ]
    },
    {
      "cell_type": "code",
      "execution_count": null,
      "metadata": {
        "id": "1lTPeoOLrC_9",
        "colab": {
          "base_uri": "https://localhost:8080/"
        },
        "outputId": "2666fc38-c792-45fa-ba1e-4e9de78ebdea"
      },
      "outputs": [
        {
          "output_type": "stream",
          "name": "stdout",
          "text": [
            "Accuracy is 62.51044859292282%\n"
          ]
        }
      ],
      "source": [
        "model.eval()\n",
        "with torch.no_grad():\n",
        "  n_correct = 0\n",
        "  n_samples = 0\n",
        "  n_class_correct = [0 for _ in range(7)]\n",
        "  n_samples_correct = [0 for _ in range(7)]\n",
        "\n",
        "  for j,(image,label) in enumerate(val_loader):\n",
        "    image=image.to(device)\n",
        "    label=label.to(device)\n",
        "\n",
        "    output=model(image)\n",
        "    prob=F.softmax(output,dim=1)\n",
        "    _,predicted=torch.max(prob,1)\n",
        "\n",
        "    n_samples += label.size(0)\n",
        "    n_correct += (predicted == label).sum().item()\n",
        "\n",
        "    for i in range(len(label)):\n",
        "            true_label = label[i].item()\n",
        "            pred_label = predicted[i].item()\n",
        "\n",
        "            if true_label == pred_label:\n",
        "                n_class_correct[true_label] += 1\n",
        "            n_samples_correct[true_label] += 1\n",
        "\n",
        "  acc = 100.0 * n_correct / n_samples\n",
        "  print(f'Accuracy is {acc}%')"
      ]
    },
    {
      "cell_type": "code",
      "execution_count": null,
      "metadata": {
        "id": "iG-I_QOQsu8W",
        "colab": {
          "base_uri": "https://localhost:8080/"
        },
        "outputId": "30c79187-e267-4d13-d3d0-f1c6d066f832"
      },
      "outputs": [
        {
          "output_type": "stream",
          "name": "stdout",
          "text": [
            "Accuracy of Angry: 55.01%\n",
            "Accuracy of Disgust: 49.55%\n",
            "Accuracy of Fear: 44.43%\n",
            "Accuracy of Happy: 81.34%\n",
            "Accuracy of Sad: 52.55%\n",
            "Accuracy of Surprise: 56.70%\n",
            "Accuracy of Neutral: 78.46%\n"
          ]
        }
      ],
      "source": [
        "classes = ['Angry', 'Disgust', 'Fear', 'Happy', 'Sad', 'Surprise', 'Neutral']\n",
        "for i in range(7):\n",
        "    acc = 100.0 * n_class_correct[i] / n_samples_correct[i] if n_samples_correct[i] > 0 else 0\n",
        "    print(f'Accuracy of {classes[i]}: {acc:.2f}%')"
      ]
    }
  ],
  "metadata": {
    "accelerator": "GPU",
    "colab": {
      "gpuType": "T4",
      "provenance": [],
      "authorship_tag": "ABX9TyN5SZiVaKTe9fYB3JVDgtQ4",
      "include_colab_link": true
    },
    "kernelspec": {
      "display_name": "Python 3",
      "name": "python3"
    },
    "language_info": {
      "name": "python"
    }
  },
  "nbformat": 4,
  "nbformat_minor": 0
}